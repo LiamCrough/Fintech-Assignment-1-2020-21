{
 "cells": [
  {
   "cell_type": "code",
   "execution_count": 2,
   "metadata": {},
   "outputs": [],
   "source": [
    "# Imports\n",
    "import csv\n",
    "from dotenv import load_dotenv\n",
    "import pandas as pd\n",
    "import numpy as np\n",
    "from pathlib import Path"
   ]
  },
  {
   "cell_type": "code",
   "execution_count": 2,
   "metadata": {},
   "outputs": [
    {
     "name": "stdout",
     "output_type": "stream",
     "text": [
      "/c/Users/pauli/Fintech-Assignment-1-2020-21/Data\n"
     ]
    }
   ],
   "source": [
    "!pwd"
   ]
  },
  {
   "cell_type": "markdown",
   "metadata": {},
   "source": [
    "### Gold Commodity"
   ]
  },
  {
   "cell_type": "code",
   "execution_count": 3,
   "metadata": {},
   "outputs": [],
   "source": [
    "# Reading Gold Returns\n",
    "filepath_1 = Path(\"..\\\\Commodity_Data\\\\GC_close_prices.csv\")\n",
    "gold_df = pd.read_csv(filepath_1)\n",
    "\n",
    "#Set Index\n",
    "gold_df.set_index(pd.to_datetime(gold_df['Date'], infer_datetime_format=True), inplace=True)"
   ]
  },
  {
   "cell_type": "code",
   "execution_count": 4,
   "metadata": {},
   "outputs": [],
   "source": [
    "#Data Cleaning: Drop Columns\n",
    "gold_df.drop(columns=['Date','High','Low','Volume', 'Open'], inplace=True)"
   ]
  },
  {
   "cell_type": "code",
   "execution_count": 5,
   "metadata": {},
   "outputs": [],
   "source": [
    "#Data Cleaning: Rename Columns\n",
    "gold_df.rename(columns={'Close/Last': 'Gold_Close'}, inplace= True) "
   ]
  },
  {
   "cell_type": "code",
   "execution_count": 6,
   "metadata": {},
   "outputs": [],
   "source": [
    "#Calculate daily Gold returns\n",
    "gold_returns = gold_df.pct_change()\n",
    "gold_returns.rename(columns={'Gold_Close':'Gold_Returns'},inplace = True)"
   ]
  },
  {
   "cell_type": "markdown",
   "metadata": {},
   "source": [
    "### Silver Commodity"
   ]
  },
  {
   "cell_type": "code",
   "execution_count": 4,
   "metadata": {},
   "outputs": [],
   "source": [
    "# Reading Silver returns\n",
    "filepath_2 = Path(\"..\\\\Commodity_Data\\\\SI_close_prices.csv\")\n",
    "silver_df = pd.read_csv(filepath_2)\n",
    "\n",
    "#Set Index\n",
    "silver_df.set_index(pd.to_datetime(silver_df['Date'], infer_datetime_format=True), inplace=True)"
   ]
  },
  {
   "cell_type": "code",
   "execution_count": 5,
   "metadata": {},
   "outputs": [],
   "source": [
    "#Data Cleaning\n",
    "silver_df.drop(columns=['Date','High','Low','Volume', 'Open'], inplace=True)"
   ]
  },
  {
   "cell_type": "code",
   "execution_count": 9,
   "metadata": {},
   "outputs": [],
   "source": [
    "#Rename Columns\n",
    "silver_df.rename(columns={'Close/Last':'Silver_Close'},inplace = True)"
   ]
  },
  {
   "cell_type": "code",
   "execution_count": 10,
   "metadata": {},
   "outputs": [],
   "source": [
    "#Calculate daily returns\n",
    "silver_returns = silver_df.pct_change()\n",
    "silver_returns.rename(columns={'Silver_Close':'Silver_Returns'},inplace = True)"
   ]
  },
  {
   "cell_type": "markdown",
   "metadata": {},
   "source": [
    "### Returns Df"
   ]
  },
  {
   "cell_type": "code",
   "execution_count": 11,
   "metadata": {},
   "outputs": [
    {
     "data": {
      "text/html": [
       "<div>\n",
       "<style scoped>\n",
       "    .dataframe tbody tr th:only-of-type {\n",
       "        vertical-align: middle;\n",
       "    }\n",
       "\n",
       "    .dataframe tbody tr th {\n",
       "        vertical-align: top;\n",
       "    }\n",
       "\n",
       "    .dataframe thead th {\n",
       "        text-align: right;\n",
       "    }\n",
       "</style>\n",
       "<table border=\"1\" class=\"dataframe\">\n",
       "  <thead>\n",
       "    <tr style=\"text-align: right;\">\n",
       "      <th></th>\n",
       "      <th>Silver_Returns</th>\n",
       "      <th>Gold_Returns</th>\n",
       "    </tr>\n",
       "    <tr>\n",
       "      <th>Date</th>\n",
       "      <th></th>\n",
       "      <th></th>\n",
       "    </tr>\n",
       "  </thead>\n",
       "  <tbody>\n",
       "    <tr>\n",
       "      <th>2015-01-30</th>\n",
       "      <td>-0.002493</td>\n",
       "      <td>0.001801</td>\n",
       "    </tr>\n",
       "    <tr>\n",
       "      <th>2015-02-02</th>\n",
       "      <td>-0.004041</td>\n",
       "      <td>0.013171</td>\n",
       "    </tr>\n",
       "    <tr>\n",
       "      <th>2015-02-03</th>\n",
       "      <td>-0.004254</td>\n",
       "      <td>-0.003321</td>\n",
       "    </tr>\n",
       "    <tr>\n",
       "      <th>2015-02-04</th>\n",
       "      <td>0.011572</td>\n",
       "      <td>0.001426</td>\n",
       "    </tr>\n",
       "    <tr>\n",
       "      <th>2015-02-05</th>\n",
       "      <td>0.030071</td>\n",
       "      <td>0.022760</td>\n",
       "    </tr>\n",
       "  </tbody>\n",
       "</table>\n",
       "</div>"
      ],
      "text/plain": [
       "            Silver_Returns  Gold_Returns\n",
       "Date                                    \n",
       "2015-01-30       -0.002493      0.001801\n",
       "2015-02-02       -0.004041      0.013171\n",
       "2015-02-03       -0.004254     -0.003321\n",
       "2015-02-04        0.011572      0.001426\n",
       "2015-02-05        0.030071      0.022760"
      ]
     },
     "execution_count": 11,
     "metadata": {},
     "output_type": "execute_result"
    }
   ],
   "source": [
    "#Concat Commodity DF\n",
    "daily_commodity_df = pd.concat([silver_returns, gold_returns], axis=\"columns\", join=\"inner\")\n",
    "daily_commodity_df.dropna(inplace = True)\n",
    "daily_commodity_df.sort_index().head()"
   ]
  },
  {
   "cell_type": "code",
   "execution_count": 12,
   "metadata": {},
   "outputs": [],
   "source": [
    "daily_commodity_df.to_csv('daily_commodity_df.csv', encoding='utf-8', index=True)"
   ]
  },
  {
   "cell_type": "code",
   "execution_count": 13,
   "metadata": {},
   "outputs": [
    {
     "data": {
      "text/plain": [
       "Date\n",
       "2020-07-30   -0.022442\n",
       "2020-07-29    0.023042\n",
       "2020-07-28   -0.003669\n",
       "2020-07-27    0.001972\n",
       "2020-07-24   -0.048498\n",
       "                ...   \n",
       "2015-02-05    0.026416\n",
       "2015-02-04    0.006499\n",
       "2015-02-03   -0.003788\n",
       "2015-02-02    0.004565\n",
       "2015-01-30   -0.000346\n",
       "Length: 1386, dtype: float64"
      ]
     },
     "execution_count": 13,
     "metadata": {},
     "output_type": "execute_result"
    }
   ],
   "source": [
    "# Set weights\n",
    "weights = [0.5, 0.5]\n",
    "\n",
    "# Calculate portfolio weighted return\n",
    "daily_weighted_returns = daily_commodity_df.dot(weights)\n",
    "daily_weighted_returns"
   ]
  },
  {
   "cell_type": "markdown",
   "metadata": {},
   "source": [
    "### Monthly Data frame"
   ]
  },
  {
   "cell_type": "code",
   "execution_count": 14,
   "metadata": {},
   "outputs": [],
   "source": [
    "gold_monthly_close = gold_df.resample('1M').mean()"
   ]
  },
  {
   "cell_type": "code",
   "execution_count": 15,
   "metadata": {},
   "outputs": [],
   "source": [
    "silver_monthly_close = silver_df.resample('1M').mean()"
   ]
  },
  {
   "cell_type": "code",
   "execution_count": 16,
   "metadata": {},
   "outputs": [
    {
     "data": {
      "text/html": [
       "<div>\n",
       "<style scoped>\n",
       "    .dataframe tbody tr th:only-of-type {\n",
       "        vertical-align: middle;\n",
       "    }\n",
       "\n",
       "    .dataframe tbody tr th {\n",
       "        vertical-align: top;\n",
       "    }\n",
       "\n",
       "    .dataframe thead th {\n",
       "        text-align: right;\n",
       "    }\n",
       "</style>\n",
       "<table border=\"1\" class=\"dataframe\">\n",
       "  <thead>\n",
       "    <tr style=\"text-align: right;\">\n",
       "      <th></th>\n",
       "      <th>Silver_Close</th>\n",
       "      <th>Gold_Close</th>\n",
       "    </tr>\n",
       "    <tr>\n",
       "      <th>Date</th>\n",
       "      <th></th>\n",
       "      <th></th>\n",
       "    </tr>\n",
       "  </thead>\n",
       "  <tbody>\n",
       "    <tr>\n",
       "      <th>2015-01-31</th>\n",
       "      <td>17.208000</td>\n",
       "      <td>1279.200000</td>\n",
       "    </tr>\n",
       "    <tr>\n",
       "      <th>2015-02-28</th>\n",
       "      <td>16.743895</td>\n",
       "      <td>1225.484211</td>\n",
       "    </tr>\n",
       "    <tr>\n",
       "      <th>2015-03-31</th>\n",
       "      <td>16.215545</td>\n",
       "      <td>1177.854545</td>\n",
       "    </tr>\n",
       "    <tr>\n",
       "      <th>2015-04-30</th>\n",
       "      <td>16.337714</td>\n",
       "      <td>1199.828571</td>\n",
       "    </tr>\n",
       "    <tr>\n",
       "      <th>2015-05-31</th>\n",
       "      <td>16.818700</td>\n",
       "      <td>1198.200000</td>\n",
       "    </tr>\n",
       "  </tbody>\n",
       "</table>\n",
       "</div>"
      ],
      "text/plain": [
       "            Silver_Close   Gold_Close\n",
       "Date                                 \n",
       "2015-01-31     17.208000  1279.200000\n",
       "2015-02-28     16.743895  1225.484211\n",
       "2015-03-31     16.215545  1177.854545\n",
       "2015-04-30     16.337714  1199.828571\n",
       "2015-05-31     16.818700  1198.200000"
      ]
     },
     "execution_count": 16,
     "metadata": {},
     "output_type": "execute_result"
    }
   ],
   "source": [
    "#Concat Monthly close prices\n",
    "monthly_close = pd.concat([silver_monthly_close, gold_monthly_close], axis=\"columns\", join=\"inner\")\n",
    "monthly_close.sort_index().head()"
   ]
  },
  {
   "cell_type": "code",
   "execution_count": 17,
   "metadata": {},
   "outputs": [],
   "source": [
    "#Calculate monthly returns\n",
    "monthly_returns = monthly_close.pct_change()\n",
    "monthly_returns.dropna(inplace = True)\n",
    "monthly_returns.rename(columns={'Silver_Close':'Monthly_Silver_Return','Gold_Close':'Monthly_Gold_Return'},inplace = True)"
   ]
  },
  {
   "cell_type": "code",
   "execution_count": 18,
   "metadata": {},
   "outputs": [
    {
     "data": {
      "text/plain": [
       "Date\n",
       "2015-02-28   -0.034481\n",
       "2015-03-31   -0.035210\n",
       "2015-04-30    0.013095\n",
       "2015-05-31    0.014041\n",
       "2015-06-30   -0.030616\n",
       "                ...   \n",
       "2020-03-31   -0.082493\n",
       "2020-04-30    0.045893\n",
       "2020-05-31    0.047817\n",
       "2020-06-30    0.047520\n",
       "2020-07-31    0.115277\n",
       "Freq: M, Length: 66, dtype: float64"
      ]
     },
     "execution_count": 18,
     "metadata": {},
     "output_type": "execute_result"
    }
   ],
   "source": [
    "# Set weights\n",
    "weights = [0.5, 0.5]\n",
    "\n",
    "# Calculate portfolio weighted return\n",
    "monthly_weighted_returns = monthly_returns.dot(weights)\n",
    "monthly_weighted_returns"
   ]
  },
  {
   "cell_type": "code",
   "execution_count": 19,
   "metadata": {},
   "outputs": [
    {
     "data": {
      "text/html": [
       "<div>\n",
       "<style scoped>\n",
       "    .dataframe tbody tr th:only-of-type {\n",
       "        vertical-align: middle;\n",
       "    }\n",
       "\n",
       "    .dataframe tbody tr th {\n",
       "        vertical-align: top;\n",
       "    }\n",
       "\n",
       "    .dataframe thead th {\n",
       "        text-align: right;\n",
       "    }\n",
       "</style>\n",
       "<table border=\"1\" class=\"dataframe\">\n",
       "  <thead>\n",
       "    <tr style=\"text-align: right;\">\n",
       "      <th></th>\n",
       "      <th>Silver_Close</th>\n",
       "      <th>Gold_Close</th>\n",
       "      <th>Monthly_Silver_Return</th>\n",
       "      <th>Monthly_Gold_Return</th>\n",
       "    </tr>\n",
       "    <tr>\n",
       "      <th>Date</th>\n",
       "      <th></th>\n",
       "      <th></th>\n",
       "      <th></th>\n",
       "      <th></th>\n",
       "    </tr>\n",
       "  </thead>\n",
       "  <tbody>\n",
       "    <tr>\n",
       "      <th>2015-02-28</th>\n",
       "      <td>16.743895</td>\n",
       "      <td>1225.484211</td>\n",
       "      <td>-0.026970</td>\n",
       "      <td>-0.041992</td>\n",
       "    </tr>\n",
       "    <tr>\n",
       "      <th>2015-03-31</th>\n",
       "      <td>16.215545</td>\n",
       "      <td>1177.854545</td>\n",
       "      <td>-0.031555</td>\n",
       "      <td>-0.038866</td>\n",
       "    </tr>\n",
       "    <tr>\n",
       "      <th>2015-04-30</th>\n",
       "      <td>16.337714</td>\n",
       "      <td>1199.828571</td>\n",
       "      <td>0.007534</td>\n",
       "      <td>0.018656</td>\n",
       "    </tr>\n",
       "    <tr>\n",
       "      <th>2015-05-31</th>\n",
       "      <td>16.818700</td>\n",
       "      <td>1198.200000</td>\n",
       "      <td>0.029440</td>\n",
       "      <td>-0.001357</td>\n",
       "    </tr>\n",
       "    <tr>\n",
       "      <th>2015-06-30</th>\n",
       "      <td>16.028045</td>\n",
       "      <td>1181.159091</td>\n",
       "      <td>-0.047010</td>\n",
       "      <td>-0.014222</td>\n",
       "    </tr>\n",
       "    <tr>\n",
       "      <th>...</th>\n",
       "      <td>...</td>\n",
       "      <td>...</td>\n",
       "      <td>...</td>\n",
       "      <td>...</td>\n",
       "    </tr>\n",
       "    <tr>\n",
       "      <th>2020-03-31</th>\n",
       "      <td>14.918500</td>\n",
       "      <td>1596.859091</td>\n",
       "      <td>-0.163986</td>\n",
       "      <td>-0.001000</td>\n",
       "    </tr>\n",
       "    <tr>\n",
       "      <th>2020-04-30</th>\n",
       "      <td>15.293714</td>\n",
       "      <td>1703.266667</td>\n",
       "      <td>0.025151</td>\n",
       "      <td>0.066636</td>\n",
       "    </tr>\n",
       "    <tr>\n",
       "      <th>2020-05-31</th>\n",
       "      <td>16.576700</td>\n",
       "      <td>1723.270000</td>\n",
       "      <td>0.083890</td>\n",
       "      <td>0.011744</td>\n",
       "    </tr>\n",
       "    <tr>\n",
       "      <th>2020-06-30</th>\n",
       "      <td>17.954591</td>\n",
       "      <td>1743.809091</td>\n",
       "      <td>0.083122</td>\n",
       "      <td>0.011919</td>\n",
       "    </tr>\n",
       "    <tr>\n",
       "      <th>2020-07-31</th>\n",
       "      <td>20.947455</td>\n",
       "      <td>1855.172727</td>\n",
       "      <td>0.166691</td>\n",
       "      <td>0.063862</td>\n",
       "    </tr>\n",
       "  </tbody>\n",
       "</table>\n",
       "<p>66 rows × 4 columns</p>\n",
       "</div>"
      ],
      "text/plain": [
       "            Silver_Close   Gold_Close  Monthly_Silver_Return  \\\n",
       "Date                                                           \n",
       "2015-02-28     16.743895  1225.484211              -0.026970   \n",
       "2015-03-31     16.215545  1177.854545              -0.031555   \n",
       "2015-04-30     16.337714  1199.828571               0.007534   \n",
       "2015-05-31     16.818700  1198.200000               0.029440   \n",
       "2015-06-30     16.028045  1181.159091              -0.047010   \n",
       "...                  ...          ...                    ...   \n",
       "2020-03-31     14.918500  1596.859091              -0.163986   \n",
       "2020-04-30     15.293714  1703.266667               0.025151   \n",
       "2020-05-31     16.576700  1723.270000               0.083890   \n",
       "2020-06-30     17.954591  1743.809091               0.083122   \n",
       "2020-07-31     20.947455  1855.172727               0.166691   \n",
       "\n",
       "            Monthly_Gold_Return  \n",
       "Date                             \n",
       "2015-02-28            -0.041992  \n",
       "2015-03-31            -0.038866  \n",
       "2015-04-30             0.018656  \n",
       "2015-05-31            -0.001357  \n",
       "2015-06-30            -0.014222  \n",
       "...                         ...  \n",
       "2020-03-31            -0.001000  \n",
       "2020-04-30             0.066636  \n",
       "2020-05-31             0.011744  \n",
       "2020-06-30             0.011919  \n",
       "2020-07-31             0.063862  \n",
       "\n",
       "[66 rows x 4 columns]"
      ]
     },
     "execution_count": 19,
     "metadata": {},
     "output_type": "execute_result"
    }
   ],
   "source": [
    "monthly_commodity_df = pd.concat([monthly_close, monthly_returns], axis=\"columns\", join=\"inner\")\n",
    "monthly_commodity_df"
   ]
  },
  {
   "cell_type": "code",
   "execution_count": 20,
   "metadata": {},
   "outputs": [],
   "source": [
    "monthly_commodity_df.to_csv('monthly_commodity_df.csv', encoding='utf-8', index=True)"
   ]
  }
 ],
 "metadata": {
  "kernelspec": {
   "display_name": "Python 3",
   "language": "python",
   "name": "python3"
  },
  "language_info": {
   "codemirror_mode": {
    "name": "ipython",
    "version": 3
   },
   "file_extension": ".py",
   "mimetype": "text/x-python",
   "name": "python",
   "nbconvert_exporter": "python",
   "pygments_lexer": "ipython3",
   "version": "3.8.3"
  }
 },
 "nbformat": 4,
 "nbformat_minor": 4
}

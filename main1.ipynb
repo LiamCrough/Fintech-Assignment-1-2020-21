{
 "cells": [
  {
   "cell_type": "code",
   "execution_count": 100,
   "metadata": {},
   "outputs": [],
   "source": [
    "# Imports\n",
    "import os\n",
    "import pandas as pd\n",
    "import requests\n",
    "from dotenv import load_dotenv\n",
    "from pathlib import Path"
   ]
  },
  {
   "cell_type": "code",
   "execution_count": 101,
   "metadata": {},
   "outputs": [
    {
     "data": {
      "text/plain": [
       "str"
      ]
     },
     "execution_count": 101,
     "metadata": {},
     "output_type": "execute_result"
    }
   ],
   "source": [
    "#Read the FMP API Key\n",
    "load_dotenv()\n",
    "#Retrive environment variable and store in Python variable\n",
    "api_key= os.getenv('FMP_API_KEY')\n",
    "#confirm retrieval of api key\n",
    "type(api_key)"
   ]
  },
  {
   "cell_type": "markdown",
   "metadata": {},
   "source": [
    "## Define Variables"
   ]
  },
  {
   "cell_type": "code",
   "execution_count": 102,
   "metadata": {},
   "outputs": [],
   "source": [
    "crypto_symbol = ['BTCUSD','LTCUSD','XRPUSD','ETHUSD','ETCUSD']\n",
    "url = (f'https://financialmodelingprep.com/api/v3/historical-price-full/crypto/{crypto_symbol}?apikey={api_key}')"
   ]
  },
  {
   "cell_type": "code",
   "execution_count": 103,
   "metadata": {},
   "outputs": [],
   "source": [
    "def get_crypto_data(cryptourl):\n",
    "    #get companies based on criteria defined about\n",
    "    CryptoUSD = requests.get(url)\n",
    "    CryptoUSD = CryptoUSD.json()\n",
    "    CryptoUSD = CryptoUSD['historical']\n",
    "    Crypto = pd.DataFrame.from_dict(CryptoUSD)\n",
    "    Crypto.set_index('date',inplace=True)    \n",
    "    #Keep only the close column- Open, close, adjclose, volume,chanepercent\n",
    "    columns =['change','high','label','low','unadjustedVolume','vwap','changeOverTime','close']\n",
    "    Crypto= Crypto.drop(columns, axis=1)\n",
    "    #convert volumne into float datatype\n",
    "    #Crypto['volume'] = Crypto['volume'].astype(float)\n",
    "    #Crypto['volume'] = pd.to_numeric(Crypto['volume'], errors='coerce')\n",
    "    #Rename the column adjclose and changepercent to close and percentchange\n",
    "    Crypto.rename(columns = {'adjClose' : 'close' , 'changePercent' : 'change%'}, inplace = True)\n",
    "    return Crypto"
   ]
  },
  {
   "cell_type": "code",
   "execution_count": 104,
   "metadata": {},
   "outputs": [],
   "source": [
    "def saveto_csv(dataFrame,fileName):    \n",
    "    newfilename= \"Data\\\\\"  + fileName +\".csv\"    \n",
    "    dataFrame.to_csv(newfilename,index = True)"
   ]
  },
  {
   "cell_type": "code",
   "execution_count": 105,
   "metadata": {},
   "outputs": [],
   "source": [
    "for symbol in crypto_symbol:\n",
    "    url = (f'https://financialmodelingprep.com/api/v3/historical-price-full/crypto/{symbol}?apikey={api_key}')\n",
    "    crypto_df= get_crypto_data(url)\n",
    "    saveto_csv(crypto_df,symbol)"
   ]
  },
  {
   "cell_type": "markdown",
   "metadata": {},
   "source": [
    "## Calculate returns of crypto data weightage is 0.02"
   ]
  },
  {
   "cell_type": "code",
   "execution_count": 144,
   "metadata": {},
   "outputs": [],
   "source": [
    "def get_crypto_returns(csvFile):   \n",
    "    # set the file path\n",
    "    file_path = Path(csvFile)\n",
    "    # create a Pandas DataFrame from a csv file\n",
    "    df = pd.read_csv(file_path)   \n",
    "    # drop null values\n",
    "    df = df.dropna().copy()   \n",
    "    #set date as index\n",
    "    df = df.set_index(\"date\")\n",
    "    # drop all columns except close\n",
    "    columns =['open','volume','change%']\n",
    "    df = df.drop(columns, axis=1)\n",
    "    #rename column\n",
    "    columnname = symbol[:-3]\n",
    "    df.rename(columns = {'close' : columnname}, inplace = True)   \n",
    "    return df    "
   ]
  },
  {
   "cell_type": "code",
   "execution_count": 146,
   "metadata": {},
   "outputs": [],
   "source": [
    "for symbol in crypto_symbol: \n",
    "    csvFile = 'Data\\\\'+symbol+'.csv'\n",
    "    if symbol == 'BTCUSD':\n",
    "        btc_df=get_crypto_returns(csvFile)  \n",
    "    elif symbol == 'LTCUSD':\n",
    "        ltc_df=get_crypto_returns(csvFile)\n",
    "    elif symbol == 'XRPUSD':\n",
    "        xrp_df=get_crypto_returns(csvFile)\n",
    "    elif symbol == 'ETCUSD':\n",
    "        etc_df=get_crypto_returns(csvFile)\n",
    "    else:\n",
    "        eth_df=get_crypto_returns(csvFile)\n",
    "\n",
    "combine_crypto_df = pd.concat([btc_df,ltc_df,xrp_df,etc_df,eth_df], axis = 'columns', join='inner')\n",
    "saveto_csv(combine_crypto_df,'CrytoAll')"
   ]
  },
  {
   "cell_type": "code",
   "execution_count": null,
   "metadata": {},
   "outputs": [],
   "source": []
  }
 ],
 "metadata": {
  "kernelspec": {
   "display_name": "Python [conda env:pyvizenv]",
   "language": "python",
   "name": "conda-env-pyvizenv-py"
  },
  "language_info": {
   "codemirror_mode": {
    "name": "ipython",
    "version": 3
   },
   "file_extension": ".py",
   "mimetype": "text/x-python",
   "name": "python",
   "nbconvert_exporter": "python",
   "pygments_lexer": "ipython3",
   "version": "3.7.9"
  }
 },
 "nbformat": 4,
 "nbformat_minor": 4
}

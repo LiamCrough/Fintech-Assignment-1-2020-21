{
 "cells": [
  {
   "cell_type": "code",
   "execution_count": 87,
   "metadata": {},
   "outputs": [],
   "source": [
    "# Imports\n",
    "import os\n",
    "import pandas as pd\n",
    "import requests\n",
    "from dotenv import load_dotenv"
   ]
  },
  {
   "cell_type": "code",
   "execution_count": 88,
   "metadata": {},
   "outputs": [
    {
     "data": {
      "text/plain": [
       "str"
      ]
     },
     "execution_count": 88,
     "metadata": {},
     "output_type": "execute_result"
    }
   ],
   "source": [
    "#Read the FMP API Key\n",
    "load_dotenv()\n",
    "#Retrive environment variable and store in Python variable\n",
    "api_key= os.getenv('FMP_API_KEY')\n",
    "#confirm retrieval of api key\n",
    "type(api_key)"
   ]
  },
  {
   "cell_type": "markdown",
   "metadata": {},
   "source": [
    "## Define Variables"
   ]
  },
  {
   "cell_type": "code",
   "execution_count": 89,
   "metadata": {},
   "outputs": [],
   "source": [
    "crypto_symbol = ['BTCUSD','LTCUSD','XRPUSD','ETHUSD','ETCUSD']\n",
    "url = (f'https://financialmodelingprep.com/api/v3/historical-price-full/crypto/{crypto_symbol}?apikey={api_key}')"
   ]
  },
  {
   "cell_type": "code",
   "execution_count": 96,
   "metadata": {},
   "outputs": [],
   "source": [
    "def get_crypto_data(cryptourl):\n",
    "    #get companies based on criteria defined about\n",
    "    CryptoUSD = requests.get(url)\n",
    "    CryptoUSD = CryptoUSD.json()\n",
    "    CryptoUSD = CryptoUSD['historical']\n",
    "    Crypto = pd.DataFrame.from_dict(CryptoUSD)\n",
    "    Crypto.set_index('date',inplace=True)    \n",
    "    #Keep only the close column- Open, close, adjclose, volume,chanepercent\n",
    "    columns =['change','high','label','low','unadjustedVolume','vwap','changeOverTime','close']\n",
    "    Crypto= Crypto.drop(columns, axis=1)\n",
    "    #convert volumne into float datatype\n",
    "    #Crypto['volume'] = Crypto['volume'].astype(float)\n",
    "    #Crypto['volume'] = pd.to_numeric(Crypto['volume'], errors='coerce')\n",
    "    #Rename the column adjclose and changepercent to close and percentchange\n",
    "    Crypto.rename(columns = {'adjClose' : 'close' , 'changePercent' : 'change%'}, inplace = True)\n",
    "    return Crypto"
   ]
  },
  {
   "cell_type": "code",
   "execution_count": 97,
   "metadata": {},
   "outputs": [],
   "source": [
    "def saveto_csv(dataFrame,fileName):    \n",
    "    newfilename= \"Data\\\\\"  + fileName +\".csv\"    \n",
    "    dataFrame.to_csv(newfilename,index = True)"
   ]
  },
  {
   "cell_type": "code",
   "execution_count": 98,
   "metadata": {},
   "outputs": [
    {
     "name": "stdout",
     "output_type": "stream",
     "text": [
      "Data\\BTCUSD.csv\n",
      "Data\\LTCUSD.csv\n",
      "Data\\XRPUSD.csv\n",
      "Data\\ETHUSD.csv\n",
      "Data\\ETCUSD.csv\n"
     ]
    }
   ],
   "source": [
    "for symbol in crypto_symbol:\n",
    "    url = (f'https://financialmodelingprep.com/api/v3/historical-price-full/crypto/{symbol}?apikey={api_key}')\n",
    "    crypto_df= get_crypto_data(url)\n",
    "    saveto_csv(crypto_df,symbol)"
   ]
  },
  {
   "cell_type": "code",
   "execution_count": null,
   "metadata": {},
   "outputs": [],
   "source": []
  }
 ],
 "metadata": {
  "kernelspec": {
   "display_name": "Python [conda env:pyvizenv]",
   "language": "python",
   "name": "conda-env-pyvizenv-py"
  },
  "language_info": {
   "codemirror_mode": {
    "name": "ipython",
    "version": 3
   },
   "file_extension": ".py",
   "mimetype": "text/x-python",
   "name": "python",
   "nbconvert_exporter": "python",
   "pygments_lexer": "ipython3",
   "version": "3.7.9"
  }
 },
 "nbformat": 4,
 "nbformat_minor": 4
}

{
 "cells": [
  {
   "cell_type": "code",
   "execution_count": 158,
   "metadata": {},
   "outputs": [],
   "source": [
    "# Imports\n",
    "import os , glob\n",
    "import pandas as pd\n",
    "import requests\n",
    "import datetime as dt\n",
    "from dotenv import load_dotenv\n",
    "from pathlib import Path"
   ]
  },
  {
   "cell_type": "code",
   "execution_count": 159,
   "metadata": {},
   "outputs": [
    {
     "data": {
      "text/plain": [
       "str"
      ]
     },
     "execution_count": 159,
     "metadata": {},
     "output_type": "execute_result"
    }
   ],
   "source": [
    "#Read the FMP API Key\n",
    "load_dotenv()\n",
    "#Retrive environment variable and store in Python variable\n",
    "api_key= os.getenv('FMP_API_KEY')\n",
    "#confirm retrieval of api key\n",
    "type(api_key)"
   ]
  },
  {
   "cell_type": "markdown",
   "metadata": {},
   "source": [
    "## Define Variables"
   ]
  },
  {
   "cell_type": "code",
   "execution_count": 160,
   "metadata": {},
   "outputs": [],
   "source": [
    "crypto_symbol = ['BTCUSD','LTCUSD','ETHUSD','XRPUSD','BCNUSD']\n",
    "url = (f'https://financialmodelingprep.com/api/v3/historical-price-full/crypto/{crypto_symbol}?apikey={api_key}')"
   ]
  },
  {
   "cell_type": "code",
   "execution_count": 161,
   "metadata": {},
   "outputs": [],
   "source": [
    "def get_crypto_data(cryptourl):\n",
    "    #get companies based on criteria defined about\n",
    "    CryptoUSD = requests.get(url)\n",
    "    CryptoUSD = CryptoUSD.json()    \n",
    "    CryptoUSD = CryptoUSD['historical']\n",
    "    Crypto = pd.DataFrame.from_dict(CryptoUSD)\n",
    "    #Crypto['date'] = pd.to_datetime(Crypto['date'])\n",
    "    Crypto.set_index('date',inplace=True)    \n",
    "    #Keep only the close column- Open, close, adjclose, volume,chanepercent\n",
    "    columns =['change','high','label','low','unadjustedVolume','vwap','changeOverTime','close']\n",
    "    Crypto= Crypto.drop(columns, axis=1)    \n",
    "    #Rename the column adjclose and changepercent to close and percentchange\n",
    "    Crypto.rename(columns = {'adjClose' : 'close' , 'changePercent' : 'change%'}, inplace = True)\n",
    "    return Crypto"
   ]
  },
  {
   "cell_type": "code",
   "execution_count": 164,
   "metadata": {},
   "outputs": [],
   "source": [
    "def saveto_csv(dataFrame,fileName):    \n",
    "    newfilename= \"Data\\\\\"  + fileName +\".csv\"    \n",
    "    dataFrame.to_csv(newfilename,index = True)"
   ]
  },
  {
   "cell_type": "code",
   "execution_count": 165,
   "metadata": {},
   "outputs": [],
   "source": [
    "def convert_daily_to_monthly(df):\n",
    "    #Resample dataframe in order to get monthly prices     \n",
    "    df.index = pd.to_datetime(df.index)\n",
    "    df=df.resample('M').mean()\n",
    "    return df"
   ]
  },
  {
   "cell_type": "code",
   "execution_count": 166,
   "metadata": {},
   "outputs": [],
   "source": [
    "def combine_data(csvFilelist,outputfile):\n",
    "    i = len(csvFilelist)\n",
    "    for file in csvFilelist:\n",
    "        # read first file\n",
    "        file1 = pd.read_csv(\"Data\\\\\"+file)\n",
    "        #read second file\n",
    "        file2 = pd.read_csv(csvFile2)\n",
    "        concate_data = pd.concat([file1,file2],index=date)\n",
    "        concate_data.head()\n",
    "        print(\"merged data file\",merged_data.head())\n",
    "    return merged_data  "
   ]
  },
  {
   "cell_type": "code",
   "execution_count": 167,
   "metadata": {},
   "outputs": [],
   "source": [
    "for symbol in crypto_symbol:\n",
    "    url = (f'https://financialmodelingprep.com/api/v3/historical-price-full/crypto/{symbol}?apikey={api_key}')\n",
    "    crypto_df= get_crypto_data(url)\n",
    "    saveto_csv(crypto_df,symbol)"
   ]
  },
  {
   "cell_type": "markdown",
   "metadata": {},
   "source": [
    "## Calculate returns of crypto data weightage is 0.02"
   ]
  },
  {
   "cell_type": "code",
   "execution_count": 169,
   "metadata": {},
   "outputs": [],
   "source": [
    "def get_crypto_returns(csvFile):   \n",
    "    # set the file path\n",
    "    file_path = Path(csvFile)\n",
    "    # create a Pandas DataFrame from a csv file\n",
    "    df = pd.read_csv(file_path)   \n",
    "    # drop null values\n",
    "    df = df.dropna().copy()   \n",
    "    #set date as index\n",
    "    df = df.set_index(\"date\")\n",
    "    # drop all columns except close\n",
    "    columns =['open','volume','change%']\n",
    "    df = df.drop(columns, axis=1)\n",
    "    #rename column\n",
    "    columnname = symbol[:-3]\n",
    "    df.rename(columns = {'close' : columnname}, inplace = True)   \n",
    "    return df    "
   ]
  },
  {
   "cell_type": "code",
   "execution_count": 170,
   "metadata": {},
   "outputs": [],
   "source": [
    "for symbol in crypto_symbol: \n",
    "    csvFile = 'Data\\\\'+symbol+'.csv'\n",
    "    if symbol == 'BTCUSD':\n",
    "        btc_df=get_crypto_returns(csvFile)  \n",
    "    elif symbol == 'LTCUSD':\n",
    "        ltc_df=get_crypto_returns(csvFile)\n",
    "    elif symbol == 'XRPUSD':\n",
    "        xrp_df=get_crypto_returns(csvFile)\n",
    "    elif symbol == 'ETHUSD':\n",
    "        etc_df=get_crypto_returns(csvFile)\n",
    "    else:\n",
    "        eth_df=get_crypto_returns(csvFile)\n",
    "\n",
    "combine_crypto_df = pd.concat([btc_df,ltc_df,xrp_df,etc_df,eth_df], axis = 'columns', join='inner')\n",
    "saveto_csv(combine_crypto_df,'daily_cryptoall')\n",
    "monthly_crypto_df=convert_daily_to_monthly(combine_crypto_df)\n",
    "saveto_csv(monthly_crypto_df,'monthly_cryptoall')"
   ]
  },
  {
   "cell_type": "code",
   "execution_count": 182,
   "metadata": {},
   "outputs": [],
   "source": [
    "csvFilelist=['daily_cryptoall.csv','daily_commodity_df.csv','daily_sp500_returns.csv']\n",
    "i = len(csvFilelist)\n",
    "for file in csvFilelist:\n",
    "    if file.startswith('daily_crypto'):\n",
    "        file1 = pd.read_csv(\"Data\\\\\"+file, parse_dates=True, infer_datetime_format=True)\n",
    "        file1=file1.set_index('date')\n",
    "    elif file.startswith('daily_sp500'):\n",
    "        #read second file    \n",
    "        file2 = pd.read_csv(\"Data\\\\\"+file,parse_dates=True, infer_datetime_format=True)         \n",
    "        file2=file2.set_index('date')\n",
    "        file2.rename(columns = {'close' : 'sp500_close'}, inplace = True)        \n",
    "    elif file.startswith('daily_commodity'):\n",
    "        file3 = pd.read_csv(\"Data\\\\\"+file, parse_dates=True, infer_datetime_format=True)\n",
    "        # rename Pandas columns to lower case        \n",
    "        file3.columns= file3.columns.str.lower()\n",
    "        file3 = file3.drop(['open','low','high','volume','open.1','low.1','high.1','volume.1'],axis=1)\n",
    "        file3['date'] = pd.to_datetime(file3['date'], format=\"%d/%m/%Y\")                      \n",
    "        file3=file3.set_index('date')       \n",
    "    else:\n",
    "        file4=pd.read_csv(\"Data\\\\\"+file,parse_dates=True, infer_datetime_format=True)\n",
    "        file4=file4.set_index('date')\n",
    "    \n",
    "\n",
    "concate_data = pd.merge(file1,file2, on='date', how='inner')\n",
    "merged_df = concate_data.join(file3, how='inner')\n",
    "saveto_csv(merged_df,'daily_combineall')     "
   ]
  },
  {
   "cell_type": "code",
   "execution_count": 192,
   "metadata": {},
   "outputs": [],
   "source": [
    "csvFilelist=['monthly_cryptoall.csv','monthly_commodity_df.csv','monthly_sp500_returns.csv']\n",
    "i = len(csvFilelist)\n",
    "for file in csvFilelist:\n",
    "    if file.startswith('monthly_crypto'):\n",
    "        file1 = pd.read_csv(\"Data\\\\\"+file, parse_dates=True, infer_datetime_format=True)\n",
    "        file1=file1.set_index('date')\n",
    "    elif file.startswith('monthly_sp500'):\n",
    "        #read second file    \n",
    "        file2 = pd.read_csv(\"Data\\\\\"+file, parse_dates=True, infer_datetime_format=False)               \n",
    "        file2 = file2.drop(['open','volume'],axis=1)\n",
    "        file2.rename(columns = {'close' : 'sp500_close'}, inplace = True)\n",
    "        file2=file2.set_index('date')\n",
    "    elif file.startswith('monthly_commodity'):\n",
    "        file3 = pd.read_csv(\"Data\\\\\"+file, parse_dates=True, infer_datetime_format=True)\n",
    "        # rename Pandas columns to lower case        \n",
    "        file3.columns= file3.columns.str.lower()\n",
    "        file3 = file3.drop(['open','low','high','open.1','low.1','high.1'],axis=1)\n",
    "        #file3['date'] = pd.to_datetime(file3['date'], format=\"%d/%m/%Y\")   \n",
    "        file3=file3.set_index('date')\n",
    "    else:\n",
    "        file4=pd.read_csv(\"Data\\\\\"+file,parse_dates=True, infer_datetime_format=True)\n",
    "        file4=file4.set_index('date')\n",
    "    \n",
    "\n",
    "concate_monthly = pd.concat([file1,file2,file3],axis='columns', join='inner')\n",
    "saveto_csv(concate_monthly,'monthly_combineall')     "
   ]
  },
  {
   "cell_type": "code",
   "execution_count": null,
   "metadata": {},
   "outputs": [],
   "source": []
  }
 ],
 "metadata": {
  "kernelspec": {
   "display_name": "Python [conda env:pyvizenv] *",
   "language": "python",
   "name": "conda-env-pyvizenv-py"
  },
  "language_info": {
   "codemirror_mode": {
    "name": "ipython",
    "version": 3
   },
   "file_extension": ".py",
   "mimetype": "text/x-python",
   "name": "python",
   "nbconvert_exporter": "python",
   "pygments_lexer": "ipython3",
   "version": "3.7.9"
  }
 },
 "nbformat": 4,
 "nbformat_minor": 4
}
